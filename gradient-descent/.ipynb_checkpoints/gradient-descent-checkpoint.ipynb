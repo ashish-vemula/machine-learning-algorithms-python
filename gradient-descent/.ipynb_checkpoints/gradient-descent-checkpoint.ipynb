{
 "cells": [
  {
   "cell_type": "markdown",
   "metadata": {},
   "source": []
  },
  {
   "cell_type": "code",
   "execution_count": 14,
   "metadata": {},
   "outputs": [],
   "source": [
    "import pandas as pd\n",
    "import numpy as np\n",
    "import matplotlib.pyplot as plt\n",
    "import seaborn as sns"
   ]
  },
  {
   "cell_type": "code",
   "execution_count": 6,
   "metadata": {
    "scrolled": true
   },
   "outputs": [],
   "source": [
    "lr_onevar = pd.read_csv('ex1data1.txt', sep=',', header=None, names=[\"population\", \"profit\"])"
   ]
  },
  {
   "cell_type": "code",
   "execution_count": 8,
   "metadata": {
    "scrolled": true
   },
   "outputs": [
    {
     "name": "stdout",
     "output_type": "stream",
     "text": [
      "(97, 2)\n"
     ]
    },
    {
     "data": {
      "text/html": [
       "<div>\n",
       "<style scoped>\n",
       "    .dataframe tbody tr th:only-of-type {\n",
       "        vertical-align: middle;\n",
       "    }\n",
       "\n",
       "    .dataframe tbody tr th {\n",
       "        vertical-align: top;\n",
       "    }\n",
       "\n",
       "    .dataframe thead th {\n",
       "        text-align: right;\n",
       "    }\n",
       "</style>\n",
       "<table border=\"1\" class=\"dataframe\">\n",
       "  <thead>\n",
       "    <tr style=\"text-align: right;\">\n",
       "      <th></th>\n",
       "      <th>population</th>\n",
       "      <th>profit</th>\n",
       "    </tr>\n",
       "  </thead>\n",
       "  <tbody>\n",
       "    <tr>\n",
       "      <th>0</th>\n",
       "      <td>6.1101</td>\n",
       "      <td>17.5920</td>\n",
       "    </tr>\n",
       "    <tr>\n",
       "      <th>1</th>\n",
       "      <td>5.5277</td>\n",
       "      <td>9.1302</td>\n",
       "    </tr>\n",
       "    <tr>\n",
       "      <th>2</th>\n",
       "      <td>8.5186</td>\n",
       "      <td>13.6620</td>\n",
       "    </tr>\n",
       "    <tr>\n",
       "      <th>3</th>\n",
       "      <td>7.0032</td>\n",
       "      <td>11.8540</td>\n",
       "    </tr>\n",
       "    <tr>\n",
       "      <th>4</th>\n",
       "      <td>5.8598</td>\n",
       "      <td>6.8233</td>\n",
       "    </tr>\n",
       "  </tbody>\n",
       "</table>\n",
       "</div>"
      ],
      "text/plain": [
       "   population   profit\n",
       "0      6.1101  17.5920\n",
       "1      5.5277   9.1302\n",
       "2      8.5186  13.6620\n",
       "3      7.0032  11.8540\n",
       "4      5.8598   6.8233"
      ]
     },
     "execution_count": 8,
     "metadata": {},
     "output_type": "execute_result"
    }
   ],
   "source": [
    "print(lr_onevar.shape)\n",
    "lr_onevar.head()"
   ]
  },
  {
   "cell_type": "code",
   "execution_count": 24,
   "metadata": {
    "scrolled": false
   },
   "outputs": [
    {
     "data": {
      "image/png": "[encoded data removed]",
      "text/plain": [
       "<Figure size 432x288 with 1 Axes>"
      ]
     },
     "metadata": {
      "needs_background": "light"
     },
     "output_type": "display_data"
    }
   ],
   "source": [
    "# sns.scatterplot(x='population', y='profit', data=lr_onevar)\n",
    "lr_onevar.plot(kind='scatter', x='population', y='profit')\n",
    "plt.title('Scatter plot for population vs profit')\n",
    "plt.ylabel('Profit in $10,000')\n",
    "plt.xlabel('Population of City in 10,000s')\n",
    "plt.show()"
   ]
  },
  {
   "cell_type": "code",
   "execution_count": 42,
   "metadata": {},
   "outputs": [],
   "source": [
    "x = lr_onevar.iloc[:,0]\n",
    "y = lr_onevar.iloc[:, 1]\n",
    "\n",
    "m = len(x) #no.of inputs \n",
    "\n",
    "# np.insert(x, 0, 1, axis=1)\n",
    "x = np.stack([np.ones(m), x], axis=1)"
   ]
  },
  {
   "cell_type": "code",
   "execution_count": 44,
   "metadata": {},
   "outputs": [],
   "source": [
    "# x"
   ]
  },
  {
   "cell_type": "code",
   "execution_count": 47,
   "metadata": {},
   "outputs": [],
   "source": [
    "#Cost function\n",
    "def costFunction(x, y, theta):\n",
    "    #Computing hypothesis\n",
    "    y_pred = np.dot(x, theta)\n",
    "    J = (1/(2*m)) * np.sum(np.square(y_pred - y))\n",
    "    return J"
   ]
  },
  {
   "cell_type": "code",
   "execution_count": 50,
   "metadata": {},
   "outputs": [
    {
     "data": {
      "text/plain": [
       "32.072733877455676"
      ]
     },
     "execution_count": 50,
     "metadata": {},
     "output_type": "execute_result"
    }
   ],
   "source": [
    "output = costFunction(x, y, np.array([0.0, 0.0]))\n",
    "output"
   ]
  },
  {
   "cell_type": "code",
   "execution_count": 63,
   "metadata": {},
   "outputs": [],
   "source": [
    "#Gradient Descent for one variable Linear Regression\n",
    "\n",
    "iterations = 1500\n",
    "alpha = 0.01\n",
    "cost_function_array = []\n",
    "theta_array = []\n",
    "\n",
    "def gradientDescent(x, y, theta, alpha, iterations):\n",
    "    for i in range(iterations):\n",
    "        theta_array.append(theta)\n",
    "                \n",
    "        #Computing hypothesis\n",
    "        y_pred = np.dot(x, theta)    \n",
    "        \n",
    "        #Computing Cost Function\n",
    "        J = (1/(2*m)) * np.sum(np.square(y_pred - y))\n",
    "        \n",
    "        #Computing Gradient Descent\n",
    "        theta = theta - np.dot((alpha*(1/m)*(y_pred - y)), x)\n",
    "        \n",
    "        cost_function_array.append(J)\n",
    "        \n",
    "    return theta, cost_function_array, theta_array\n",
    "    "
   ]
  },
  {
   "cell_type": "code",
   "execution_count": 64,
   "metadata": {},
   "outputs": [],
   "source": [
    "theta, cf_values, theta_values = gradientDescent(x, y, np.array([0, 0]), alpha, iterations)"
   ]
  },
  {
   "cell_type": "code",
   "execution_count": 68,
   "metadata": {},
   "outputs": [
    {
     "data": {
      "text/plain": [
       "array([-3.63029144,  1.16636235])"
      ]
     },
     "execution_count": 68,
     "metadata": {},
     "output_type": "execute_result"
    }
   ],
   "source": [
    "theta"
   ]
  },
  {
   "cell_type": "code",
   "execution_count": 91,
   "metadata": {},
   "outputs": [
    {
     "data": {
      "image/png": "[encoded data removed]",
      "text/plain": [
       "<Figure size 720x360 with 1 Axes>"
      ]
     },
     "metadata": {
      "needs_background": "light"
     },
     "output_type": "display_data"
    }
   ],
   "source": [
    "# plt.figure(figsize=(20,20))\n",
    "lr_onevar.plot(kind='scatter', x='population', y='profit', figsize=(10,5))\n",
    "plt.plot(x[:,1], np.dot(x, theta), c='r')\n",
    "plt.title('Scatter plot for population vs profit')\n",
    "plt.ylabel('Profit in $10,000')\n",
    "plt.xlabel('Population of City in 10,000s')\n",
    "plt.legend(['Linear regression','Training data']);\n",
    "\n",
    "plt.show()"
   ]
  },
  {
   "cell_type": "code",
   "execution_count": 94,
   "metadata": {},
   "outputs": [
    {
     "name": "stdout",
     "output_type": "stream",
     "text": [
      "Prdicted profit for the population 35,000 is  4519.767867701763\n",
      "Prdicted profit for the population 35,000 is  45342.450129447134\n"
     ]
    }
   ],
   "source": [
    "#Predicting values for population 35K and 70K\n",
    "\n",
    "predict1 = np.dot([1, 3.5], theta)\n",
    "print(\"Prdicted profit for the population 35,000 is \", predict1*10000)\n",
    "predict2 = np.dot([1, 7], theta)\n",
    "print(\"Prdicted profit for the population 35,000 is \", predict2*10000)"
   ]
  }
 ],
 "metadata": {
  "kernelspec": {
   "display_name": "Python 3",
   "language": "python",
   "name": "python3"
  },
  "language_info": {
   "codemirror_mode": {
    "name": "ipython",
    "version": 3
   },
   "file_extension": ".py",
   "mimetype": "text/x-python",
   "name": "python",
   "nbconvert_exporter": "python",
   "pygments_lexer": "ipython3",
   "version": "3.8.3"
  }
 },
 "nbformat": 4,
 "nbformat_minor": 4
}
